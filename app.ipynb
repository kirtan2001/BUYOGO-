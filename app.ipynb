{
 "cells": [
  {
   "cell_type": "code",
   "execution_count": 1,
   "id": "7b96dd0c",
   "metadata": {},
   "outputs": [
    {
     "name": "stdout",
     "output_type": "stream",
     "text": [
      "WARNING:tensorflow:From C:\\Users\\kirta\\anaconda3\\Lib\\site-packages\\tf_keras\\src\\losses.py:2976: The name tf.losses.sparse_softmax_cross_entropy is deprecated. Please use tf.compat.v1.losses.sparse_softmax_cross_entropy instead.\n",
      "\n"
     ]
    }
   ],
   "source": [
    "from fastapi import FastAPI\n",
    "from pydantic import BaseModel\n",
    "import faiss\n",
    "import numpy as np\n",
    "from sentence_transformers import SentenceTransformer\n",
    "import pandas as pd"
   ]
  },
  {
   "cell_type": "code",
   "execution_count": 2,
   "id": "c66138ab",
   "metadata": {},
   "outputs": [],
   "source": [
    "df = pd.read_csv(\"hotel_bookings.csv\")\n"
   ]
  },
  {
   "cell_type": "code",
   "execution_count": 5,
   "id": "f38075ee",
   "metadata": {},
   "outputs": [
    {
     "name": "stderr",
     "output_type": "stream",
     "text": [
      "C:\\Users\\kirta\\AppData\\Local\\Temp\\ipykernel_12748\\3206245367.py:1: FutureWarning: A value is trying to be set on a copy of a DataFrame or Series through chained assignment using an inplace method.\n",
      "The behavior will change in pandas 3.0. This inplace method will never work because the intermediate object on which we are setting values always behaves as a copy.\n",
      "\n",
      "For example, when doing 'df[col].method(value, inplace=True)', try using 'df.method({col: value}, inplace=True)' or df[col] = df[col].method(value) instead, to perform the operation inplace on the original object.\n",
      "\n",
      "\n",
      "  df['country'].fillna(\"Unknown\", inplace=True)\n"
     ]
    }
   ],
   "source": [
    "df['country'].fillna(\"Unknown\", inplace=True)"
   ]
  },
  {
   "cell_type": "code",
   "execution_count": 6,
   "id": "49834456",
   "metadata": {},
   "outputs": [
    {
     "name": "stderr",
     "output_type": "stream",
     "text": [
      "C:\\Users\\kirta\\AppData\\Local\\Temp\\ipykernel_12748\\2302941332.py:1: FutureWarning: A value is trying to be set on a copy of a DataFrame or Series through chained assignment using an inplace method.\n",
      "The behavior will change in pandas 3.0. This inplace method will never work because the intermediate object on which we are setting values always behaves as a copy.\n",
      "\n",
      "For example, when doing 'df[col].method(value, inplace=True)', try using 'df.method({col: value}, inplace=True)' or df[col] = df[col].method(value) instead, to perform the operation inplace on the original object.\n",
      "\n",
      "\n",
      "  df['agent'].fillna(0, inplace=True)\n",
      "C:\\Users\\kirta\\AppData\\Local\\Temp\\ipykernel_12748\\2302941332.py:2: FutureWarning: A value is trying to be set on a copy of a DataFrame or Series through chained assignment using an inplace method.\n",
      "The behavior will change in pandas 3.0. This inplace method will never work because the intermediate object on which we are setting values always behaves as a copy.\n",
      "\n",
      "For example, when doing 'df[col].method(value, inplace=True)', try using 'df.method({col: value}, inplace=True)' or df[col] = df[col].method(value) instead, to perform the operation inplace on the original object.\n",
      "\n",
      "\n",
      "  df['company'].fillna(0, inplace=True)\n",
      "C:\\Users\\kirta\\AppData\\Local\\Temp\\ipykernel_12748\\2302941332.py:3: FutureWarning: A value is trying to be set on a copy of a DataFrame or Series through chained assignment using an inplace method.\n",
      "The behavior will change in pandas 3.0. This inplace method will never work because the intermediate object on which we are setting values always behaves as a copy.\n",
      "\n",
      "For example, when doing 'df[col].method(value, inplace=True)', try using 'df.method({col: value}, inplace=True)' or df[col] = df[col].method(value) instead, to perform the operation inplace on the original object.\n",
      "\n",
      "\n",
      "  df['children'].fillna(0, inplace=True)\n"
     ]
    }
   ],
   "source": [
    "df['agent'].fillna(0, inplace=True)\n",
    "df['company'].fillna(0, inplace=True)\n",
    "df['children'].fillna(0, inplace=True)"
   ]
  },
  {
   "cell_type": "code",
   "execution_count": 7,
   "id": "d8726577",
   "metadata": {},
   "outputs": [
    {
     "data": {
      "text/plain": [
       "0"
      ]
     },
     "execution_count": 7,
     "metadata": {},
     "output_type": "execute_result"
    }
   ],
   "source": [
    "df.isnull().sum().sum()"
   ]
  },
  {
   "cell_type": "code",
   "execution_count": 3,
   "id": "2969e4a0",
   "metadata": {},
   "outputs": [],
   "source": [
    "model = SentenceTransformer(\"all-MiniLM-L6-v2\")"
   ]
  },
  {
   "cell_type": "code",
   "execution_count": 8,
   "id": "dcb17285",
   "metadata": {},
   "outputs": [
    {
     "name": "stdout",
     "output_type": "stream",
     "text": [
      "   arrival_date_year arrival_date_month  arrival_date_day_of_month  \\\n",
      "0               2015               July                          1   \n",
      "1               2015               July                          1   \n",
      "2               2015               July                          1   \n",
      "3               2015               July                          1   \n",
      "4               2015               July                          1   \n",
      "\n",
      "  arrival_date  \n",
      "0   2015-07-01  \n",
      "1   2015-07-01  \n",
      "2   2015-07-01  \n",
      "3   2015-07-01  \n",
      "4   2015-07-01  \n"
     ]
    }
   ],
   "source": [
    "# Ensure 'arrival_date' is created\n",
    "df['arrival_date'] = pd.to_datetime(df['arrival_date_year'].astype(str) + '-' +\n",
    "                                    df['arrival_date_month'] + '-' +\n",
    "                                    df['arrival_date_day_of_month'].astype(str),\n",
    "                                    errors='coerce')\n",
    "\n",
    "# Verify the column exists\n",
    "print(df[['arrival_date_year', 'arrival_date_month', 'arrival_date_day_of_month', 'arrival_date']].head())\n"
   ]
  },
  {
   "cell_type": "code",
   "execution_count": 10,
   "id": "e0b6c10a",
   "metadata": {},
   "outputs": [],
   "source": [
    "df['revenue'] = df['adr'] * (df['stays_in_week_nights'] + df['stays_in_weekend_nights'])\n",
    "monthly_revenue = df.groupby('arrival_date_month')['revenue'].sum()"
   ]
  },
  {
   "cell_type": "code",
   "execution_count": 11,
   "id": "1a5d3086",
   "metadata": {},
   "outputs": [],
   "source": [
    "# Text data for embedding \n",
    "df['text_data'] = df['hotel'] + \" \" + df['arrival_date'].astype(str) + \" \" + \\\n",
    "                  \"Revenue: \" + df['revenue'].astype(str) + \" \" + \\\n",
    "                  \"Cancellation: \" + df['is_canceled'].astype(str)\n"
   ]
  },
  {
   "cell_type": "code",
   "execution_count": null,
   "id": "89d0f1a7",
   "metadata": {},
   "outputs": [],
   "source": []
  },
  {
   "cell_type": "code",
   "execution_count": 12,
   "id": "8785dbec",
   "metadata": {},
   "outputs": [],
   "source": [
    "embeddings = model.encode(df['text_data'].tolist(), convert_to_numpy=True)\n",
    "index = faiss.IndexFlatL2(embeddings.shape[1])\n",
    "index.add(embeddings)"
   ]
  },
  {
   "cell_type": "code",
   "execution_count": 13,
   "id": "9c56fbee",
   "metadata": {},
   "outputs": [],
   "source": [
    "app = FastAPI()"
   ]
  },
  {
   "cell_type": "code",
   "execution_count": 14,
   "id": "9b8c7086",
   "metadata": {},
   "outputs": [],
   "source": [
    "class QueryModel(BaseModel):\n",
    "    question: str"
   ]
  },
  {
   "cell_type": "code",
   "execution_count": 15,
   "id": "42469d9c",
   "metadata": {},
   "outputs": [],
   "source": [
    "@app.post(\"/analytics\")\n",
    "def get_analytics():\n",
    "    cancellation_rate = df['is_canceled'].mean() * 100\n",
    "    avg_revenue = df['revenue'].mean()\n",
    "    avg_adr = df['adr'].mean()\n",
    "\n",
    "    return {\n",
    "        \"cancellation_rate\": f\"{cancellation_rate:.2f}%\",\n",
    "        \"average_revenue\": f\"{avg_revenue:.2f}\",\n",
    "        \"average_adr\": f\"{avg_adr:.2f}\"\n",
    "    }"
   ]
  },
  {
   "cell_type": "code",
   "execution_count": 16,
   "id": "a2a43809",
   "metadata": {},
   "outputs": [],
   "source": [
    "def answer_question(query):\n",
    "    query_embedding = model.encode([query], convert_to_numpy=True)\n",
    "    D, I = index.search(query_embedding, 1)  # Get the top match\n",
    "    \n",
    "    # Extract the first matching row and remove the index\n",
    "    result = df.iloc[I[0]].to_dict()\n",
    "\n",
    "    # Convert dictionary values from {index: value} to value\n",
    "    cleaned_result = {key: list(value.values())[0] if isinstance(value, dict) else value for key, value in result.items()}\n",
    "\n",
    "    # Convert Timestamp values to string if present\n",
    "    if 'arrival_date' in cleaned_result and isinstance(cleaned_result['arrival_date'], pd.Timestamp):\n",
    "        cleaned_result['arrival_date'] = cleaned_result['arrival_date'].strftime('%Y-%m-%d')\n",
    "\n",
    "    return cleaned_result"
   ]
  },
  {
   "cell_type": "code",
   "execution_count": 17,
   "id": "845a12ae",
   "metadata": {},
   "outputs": [],
   "source": [
    "@app.post(\"/ask\")\n",
    "def ask_question(query: QueryModel):\n",
    "    answer = answer_question(query.question)\n",
    "    return {\"answer\": answer}"
   ]
  },
  {
   "cell_type": "code",
   "execution_count": 18,
   "id": "bec60c5c",
   "metadata": {},
   "outputs": [
    {
     "name": "stderr",
     "output_type": "stream",
     "text": [
      "WARNING:  You must pass the application as an import string to enable 'reload' or 'workers'.\n"
     ]
    },
    {
     "ename": "SystemExit",
     "evalue": "1",
     "output_type": "error",
     "traceback": [
      "An exception has occurred, use %tb to see the full traceback.\n",
      "\u001b[1;31mSystemExit\u001b[0m\u001b[1;31m:\u001b[0m 1\n"
     ]
    },
    {
     "name": "stderr",
     "output_type": "stream",
     "text": [
      "C:\\Users\\kirta\\anaconda3\\Lib\\site-packages\\IPython\\core\\interactiveshell.py:3513: UserWarning: To exit: use 'exit', 'quit', or Ctrl-D.\n",
      "  warn(\"To exit: use 'exit', 'quit', or Ctrl-D.\", stacklevel=1)\n"
     ]
    }
   ],
   "source": [
    "if __name__ == \"__main__\":\n",
    "    import uvicorn\n",
    "    uvicorn.run(app, host=\"0.0.0.0\", port=8000, reload=True)"
   ]
  },
  {
   "cell_type": "code",
   "execution_count": null,
   "id": "5f79b2da",
   "metadata": {},
   "outputs": [],
   "source": []
  }
 ],
 "metadata": {
  "kernelspec": {
   "display_name": "Python 3 (ipykernel)",
   "language": "python",
   "name": "python3"
  },
  "language_info": {
   "codemirror_mode": {
    "name": "ipython",
    "version": 3
   },
   "file_extension": ".py",
   "mimetype": "text/x-python",
   "name": "python",
   "nbconvert_exporter": "python",
   "pygments_lexer": "ipython3",
   "version": "3.11.3"
  }
 },
 "nbformat": 4,
 "nbformat_minor": 5
}
